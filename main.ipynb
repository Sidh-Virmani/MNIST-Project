{
 "cells": [
  {
   "cell_type": "markdown",
   "id": "d7bbc91e",
   "metadata": {},
   "source": [
    "### Importing libraries"
   ]
  },
  {
   "cell_type": "code",
   "execution_count": 17,
   "id": "79ccaa6e",
   "metadata": {},
   "outputs": [],
   "source": [
    "import pandas as pd\n",
    "import numpy as np\n",
    "import matplotlib.pyplot as plt \n",
    "import random\n",
    "plt.style.use('ggplot')"
   ]
  },
  {
   "cell_type": "markdown",
   "id": "2ca76249",
   "metadata": {},
   "source": [
    "### Data Analysis"
   ]
  },
  {
   "cell_type": "code",
   "execution_count": 18,
   "id": "aa6e282c",
   "metadata": {},
   "outputs": [],
   "source": [
    "train_data = pd.read_csv('data/traindata.csv')"
   ]
  },
  {
   "cell_type": "markdown",
   "id": "63d90685",
   "metadata": {},
   "source": [
    "##### Understanding the dataset"
   ]
  },
  {
   "cell_type": "code",
   "execution_count": 19,
   "id": "ef91493a",
   "metadata": {},
   "outputs": [
    {
     "data": {
      "text/html": [
       "<div>\n",
       "<style scoped>\n",
       "    .dataframe tbody tr th:only-of-type {\n",
       "        vertical-align: middle;\n",
       "    }\n",
       "\n",
       "    .dataframe tbody tr th {\n",
       "        vertical-align: top;\n",
       "    }\n",
       "\n",
       "    .dataframe thead th {\n",
       "        text-align: right;\n",
       "    }\n",
       "</style>\n",
       "<table border=\"1\" class=\"dataframe\">\n",
       "  <thead>\n",
       "    <tr style=\"text-align: right;\">\n",
       "      <th></th>\n",
       "      <th>label</th>\n",
       "      <th>pixel0</th>\n",
       "      <th>pixel1</th>\n",
       "      <th>pixel2</th>\n",
       "      <th>pixel3</th>\n",
       "      <th>pixel4</th>\n",
       "      <th>pixel5</th>\n",
       "      <th>pixel6</th>\n",
       "      <th>pixel7</th>\n",
       "      <th>pixel8</th>\n",
       "      <th>...</th>\n",
       "      <th>pixel774</th>\n",
       "      <th>pixel775</th>\n",
       "      <th>pixel776</th>\n",
       "      <th>pixel777</th>\n",
       "      <th>pixel778</th>\n",
       "      <th>pixel779</th>\n",
       "      <th>pixel780</th>\n",
       "      <th>pixel781</th>\n",
       "      <th>pixel782</th>\n",
       "      <th>pixel783</th>\n",
       "    </tr>\n",
       "  </thead>\n",
       "  <tbody>\n",
       "    <tr>\n",
       "      <th>0</th>\n",
       "      <td>1</td>\n",
       "      <td>0</td>\n",
       "      <td>0</td>\n",
       "      <td>0</td>\n",
       "      <td>0</td>\n",
       "      <td>0</td>\n",
       "      <td>0</td>\n",
       "      <td>0</td>\n",
       "      <td>0</td>\n",
       "      <td>0</td>\n",
       "      <td>...</td>\n",
       "      <td>0</td>\n",
       "      <td>0</td>\n",
       "      <td>0</td>\n",
       "      <td>0</td>\n",
       "      <td>0</td>\n",
       "      <td>0</td>\n",
       "      <td>0</td>\n",
       "      <td>0</td>\n",
       "      <td>0</td>\n",
       "      <td>0</td>\n",
       "    </tr>\n",
       "  </tbody>\n",
       "</table>\n",
       "<p>1 rows × 785 columns</p>\n",
       "</div>"
      ],
      "text/plain": [
       "   label  pixel0  pixel1  pixel2  pixel3  pixel4  pixel5  pixel6  pixel7  \\\n",
       "0      1       0       0       0       0       0       0       0       0   \n",
       "\n",
       "   pixel8  ...  pixel774  pixel775  pixel776  pixel777  pixel778  pixel779  \\\n",
       "0       0  ...         0         0         0         0         0         0   \n",
       "\n",
       "   pixel780  pixel781  pixel782  pixel783  \n",
       "0         0         0         0         0  \n",
       "\n",
       "[1 rows x 785 columns]"
      ]
     },
     "execution_count": 19,
     "metadata": {},
     "output_type": "execute_result"
    }
   ],
   "source": [
    "train_data.head(1)\n"
   ]
  },
  {
   "cell_type": "code",
   "execution_count": 20,
   "id": "a2000bb8",
   "metadata": {},
   "outputs": [
    {
     "data": {
      "text/plain": [
       "(42000, 785)"
      ]
     },
     "execution_count": 20,
     "metadata": {},
     "output_type": "execute_result"
    }
   ],
   "source": [
    "train_data.shape"
   ]
  },
  {
   "cell_type": "markdown",
   "id": "6760403a",
   "metadata": {},
   "source": [
    "We have 42000 samples x 784 pixel columns"
   ]
  },
  {
   "cell_type": "markdown",
   "id": "61cb635b",
   "metadata": {},
   "source": [
    "##### Extracting data\n",
    "\n"
   ]
  },
  {
   "cell_type": "code",
   "execution_count": 21,
   "id": "3aac19b7",
   "metadata": {},
   "outputs": [
    {
     "data": {
      "text/plain": [
       "(42000, 784)"
      ]
     },
     "execution_count": 21,
     "metadata": {},
     "output_type": "execute_result"
    }
   ],
   "source": [
    "train_labels = train_data.iloc[:,0].values               #Converting data to Numpy arrays\n",
    "train_images = train_data.iloc[:,1:].values\n",
    "\n",
    "train_images.shape"
   ]
  },
  {
   "cell_type": "markdown",
   "id": "927523a2",
   "metadata": {},
   "source": [
    "Visualizing a training example"
   ]
  },
  {
   "cell_type": "code",
   "execution_count": 22,
   "id": "ccadf140",
   "metadata": {},
   "outputs": [
    {
     "data": {
      "image/png": "[encoded data removed]",
      "text/plain": [
       "<Figure size 640x480 with 1 Axes>"
      ]
     },
     "metadata": {},
     "output_type": "display_data"
    }
   ],
   "source": [
    "random_no1 = random.randint(0,42000)\n",
    "\n",
    "image = train_images[random_no1].reshape(28, 28)\n",
    "\n",
    "#Plotting it\n",
    "plt.imshow(image, cmap='gray')\n",
    "plt.title(f\"Label: {train_labels[random_no1]}\")\n",
    "plt.axis('off')\n",
    "plt.show()"
   ]
  },
  {
   "cell_type": "markdown",
   "id": "e6daef1b",
   "metadata": {},
   "source": [
    "Extracting testing data for future use"
   ]
  },
  {
   "cell_type": "code",
   "execution_count": 23,
   "id": "bfc92b63",
   "metadata": {},
   "outputs": [],
   "source": [
    "test_data = pd.read_csv('data/traindata.csv')"
   ]
  },
  {
   "cell_type": "code",
   "execution_count": 24,
   "id": "bf96ccab",
   "metadata": {},
   "outputs": [],
   "source": [
    "test_labels = test_data.iloc[:,0].values\n",
    "test_images = test_data.iloc[:,1:].values"
   ]
  },
  {
   "cell_type": "markdown",
   "id": "deaeef44",
   "metadata": {},
   "source": [
    "### Data normalization"
   ]
  },
  {
   "cell_type": "markdown",
   "id": "341aba77",
   "metadata": {},
   "source": [
    "Since the values only range from 0-255 and we rely on relu activation function for this project, the most optimal value of normalization is by division of highest value"
   ]
  },
  {
   "cell_type": "code",
   "execution_count": 25,
   "id": "cd550f73",
   "metadata": {},
   "outputs": [],
   "source": [
    "train_images = train_images/255\n",
    "test_images = test_images/255"
   ]
  },
  {
   "cell_type": "markdown",
   "id": "4ecbfea5",
   "metadata": {},
   "source": [
    "### Architecture of the Neural Network"
   ]
  },
  {
   "cell_type": "markdown",
   "id": "f20da644",
   "metadata": {},
   "source": [
    "For this project, the chosen architecture involves\n",
    "\n",
    "Input layer --> Hidden layer (128 units, relu) --> Hidden layer (64 units, relu) --> Output layer (10 units, linear)"
   ]
  },
  {
   "cell_type": "markdown",
   "id": "257aa349",
   "metadata": {},
   "source": [
    "Hence, we initialize the weight and biases for this architecture accordingly"
   ]
  },
  {
   "cell_type": "code",
   "execution_count": 26,
   "id": "3a952de0",
   "metadata": {},
   "outputs": [],
   "source": [
    "W1 = np.random.randn(784, 128) * 0.01   #Keeping values small for regularization \n",
    "W2 = np.random.randn(128, 64) * 0.01\n",
    "W3 = np.random.randn(64, 10)  * 0.01\n"
   ]
  },
  {
   "cell_type": "code",
   "execution_count": 27,
   "id": "211379f0",
   "metadata": {},
   "outputs": [],
   "source": [
    "b1 = np.zeros(128)\n",
    "b2 = np.zeros(64)\n",
    "b3 = np.zeros(10)\n"
   ]
  },
  {
   "cell_type": "markdown",
   "id": "a5f5058c",
   "metadata": {},
   "source": [
    "### Training the Model by Updating the Weights"
   ]
  },
  {
   "cell_type": "code",
   "execution_count": 28,
   "id": "fbb07404",
   "metadata": {},
   "outputs": [],
   "source": [
    "from layers import sequential\n",
    "from utilities import softmax, sparse_categorical_cross_entropy, dense, output_layer"
   ]
  },
  {
   "cell_type": "code",
   "execution_count": 29,
   "id": "d0b5baaf",
   "metadata": {},
   "outputs": [
    {
     "name": "stdout",
     "output_type": "stream",
     "text": [
      "Epoch 1, Total cost: 0.5220\n",
      "Epoch 2, Total cost: 0.1400\n",
      "Epoch 3, Total cost: 0.0936\n",
      "Epoch 4, Total cost: 0.0686\n",
      "Epoch 5, Total cost: 0.0571\n",
      "Epoch 6, Total cost: 0.0456\n",
      "Epoch 7, Total cost: 0.0419\n",
      "Epoch 8, Total cost: 0.0334\n",
      "Epoch 9, Total cost: 0.0265\n",
      "Epoch 10, Total cost: 0.0286\n"
     ]
    }
   ],
   "source": [
    "epochs = 10     #10 passes through training data\n",
    "lr = 0.01   #learning rate \n",
    "m = len(train_images)    #number of training examples\n",
    "\n",
    "for epoch in range(epochs):\n",
    "    total_loss = 0\n",
    "\n",
    "    for i in range(m):\n",
    "        x = train_images[i]\n",
    "        y = train_labels[i]\n",
    "\n",
    "        a1 = dense(x, W1, b1)\n",
    "        a2 = dense(a1, W2, b2)\n",
    "        z3 = np.dot(a2, W3) + b3\n",
    "        y_hat = softmax(z3)\n",
    "\n",
    "        #Loss\n",
    "        loss = sparse_categorical_cross_entropy(y_hat, y)\n",
    "        total_loss += loss\n",
    "\n",
    "        #Backpropagation\n",
    "        dz3 = y_hat.copy()\n",
    "        dz3[y] -= 1\n",
    "\n",
    "        dW3 = np.outer(a2, dz3)\n",
    "        db3 = dz3\n",
    "\n",
    "        da2 = np.dot(W3, dz3)\n",
    "        dz2 = da2 * (a2 > 0)\n",
    "\n",
    "        dW2 = np.outer(a1, dz2)\n",
    "        db2 = dz2\n",
    "\n",
    "        da1 = np.dot(W2, dz2)\n",
    "        dz1 = da1 * (a1 > 0)\n",
    "\n",
    "        dW1 = np.outer(x, dz1)\n",
    "        db1 = dz1\n",
    "\n",
    "        # Gradient descent update\n",
    "        W3 -= lr * dW3\n",
    "        b3 -= lr * db3\n",
    "        W2 -= lr * dW2\n",
    "        b2 -= lr * db2\n",
    "        W1 -= lr * dW1\n",
    "        b1 -= lr * db1\n",
    "\n",
    "    cost = total_loss/m\n",
    "    print(f\"Epoch {epoch+1}, Total cost: {cost:.4f}\")\n",
    "\n"
   ]
  },
  {
   "cell_type": "markdown",
   "id": "2ea68b73",
   "metadata": {},
   "source": [
    "### Making Predictions on the testing data"
   ]
  },
  {
   "cell_type": "code",
   "execution_count": 30,
   "id": "42bafa9a",
   "metadata": {},
   "outputs": [],
   "source": [
    "from utilities import predict"
   ]
  },
  {
   "cell_type": "code",
   "execution_count": 32,
   "id": "2b2b7d20",
   "metadata": {},
   "outputs": [
    {
     "name": "stdout",
     "output_type": "stream",
     "text": [
      "Test Accuracy Percentage: 99.1429\n"
     ]
    }
   ],
   "source": [
    "correct = 0\n",
    "total = len(test_images)\n",
    "\n",
    "for i in range(total):\n",
    "    x = test_images[i]\n",
    "    y = test_labels[i]\n",
    "\n",
    "    y_pred = predict(x, W1, b1, W2, b2, W3, b3)\n",
    "    if y_pred == y:\n",
    "        correct += 1\n",
    "\n",
    "test_accuracy = (correct / total) * 100\n",
    "print(f\"Test Accuracy Percentage: {test_accuracy:.4f}\")\n"
   ]
  }
 ],
 "metadata": {
  "kernelspec": {
   "display_name": ".venv",
   "language": "python",
   "name": "python3"
  },
  "language_info": {
   "codemirror_mode": {
    "name": "ipython",
    "version": 3
   },
   "file_extension": ".py",
   "mimetype": "text/x-python",
   "name": "python",
   "nbconvert_exporter": "python",
   "pygments_lexer": "ipython3",
   "version": "3.13.1"
  }
 },
 "nbformat": 4,
 "nbformat_minor": 5
}
