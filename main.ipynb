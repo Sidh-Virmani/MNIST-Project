{
 "cells": [
  {
   "cell_type": "markdown",
   "id": "d7bbc91e",
   "metadata": {},
   "source": [
    "### Importing libraries"
   ]
  },
  {
   "cell_type": "code",
   "execution_count": 16,
   "id": "79ccaa6e",
   "metadata": {},
   "outputs": [],
   "source": [
    "import pandas as pd\n",
    "import numpy as np\n",
    "import matplotlib.pyplot as plt \n",
    "import random\n",
    "plt.style.use('ggplot')"
   ]
  },
  {
   "cell_type": "markdown",
   "id": "2ca76249",
   "metadata": {},
   "source": [
    "### Data Analysis"
   ]
  },
  {
   "cell_type": "code",
   "execution_count": 11,
   "id": "aa6e282c",
   "metadata": {},
   "outputs": [],
   "source": [
    "train_data = pd.read_csv('data/traindata.csv')"
   ]
  },
  {
   "cell_type": "markdown",
   "id": "63d90685",
   "metadata": {},
   "source": [
    "##### Understanding the dataset"
   ]
  },
  {
   "cell_type": "code",
   "execution_count": 12,
   "id": "ef91493a",
   "metadata": {},
   "outputs": [
    {
     "data": {
      "text/html": [
       "<div>\n",
       "<style scoped>\n",
       "    .dataframe tbody tr th:only-of-type {\n",
       "        vertical-align: middle;\n",
       "    }\n",
       "\n",
       "    .dataframe tbody tr th {\n",
       "        vertical-align: top;\n",
       "    }\n",
       "\n",
       "    .dataframe thead th {\n",
       "        text-align: right;\n",
       "    }\n",
       "</style>\n",
       "<table border=\"1\" class=\"dataframe\">\n",
       "  <thead>\n",
       "    <tr style=\"text-align: right;\">\n",
       "      <th></th>\n",
       "      <th>label</th>\n",
       "      <th>pixel0</th>\n",
       "      <th>pixel1</th>\n",
       "      <th>pixel2</th>\n",
       "      <th>pixel3</th>\n",
       "      <th>pixel4</th>\n",
       "      <th>pixel5</th>\n",
       "      <th>pixel6</th>\n",
       "      <th>pixel7</th>\n",
       "      <th>pixel8</th>\n",
       "      <th>...</th>\n",
       "      <th>pixel774</th>\n",
       "      <th>pixel775</th>\n",
       "      <th>pixel776</th>\n",
       "      <th>pixel777</th>\n",
       "      <th>pixel778</th>\n",
       "      <th>pixel779</th>\n",
       "      <th>pixel780</th>\n",
       "      <th>pixel781</th>\n",
       "      <th>pixel782</th>\n",
       "      <th>pixel783</th>\n",
       "    </tr>\n",
       "  </thead>\n",
       "  <tbody>\n",
       "    <tr>\n",
       "      <th>0</th>\n",
       "      <td>1</td>\n",
       "      <td>0</td>\n",
       "      <td>0</td>\n",
       "      <td>0</td>\n",
       "      <td>0</td>\n",
       "      <td>0</td>\n",
       "      <td>0</td>\n",
       "      <td>0</td>\n",
       "      <td>0</td>\n",
       "      <td>0</td>\n",
       "      <td>...</td>\n",
       "      <td>0</td>\n",
       "      <td>0</td>\n",
       "      <td>0</td>\n",
       "      <td>0</td>\n",
       "      <td>0</td>\n",
       "      <td>0</td>\n",
       "      <td>0</td>\n",
       "      <td>0</td>\n",
       "      <td>0</td>\n",
       "      <td>0</td>\n",
       "    </tr>\n",
       "  </tbody>\n",
       "</table>\n",
       "<p>1 rows × 785 columns</p>\n",
       "</div>"
      ],
      "text/plain": [
       "   label  pixel0  pixel1  pixel2  pixel3  pixel4  pixel5  pixel6  pixel7  \\\n",
       "0      1       0       0       0       0       0       0       0       0   \n",
       "\n",
       "   pixel8  ...  pixel774  pixel775  pixel776  pixel777  pixel778  pixel779  \\\n",
       "0       0  ...         0         0         0         0         0         0   \n",
       "\n",
       "   pixel780  pixel781  pixel782  pixel783  \n",
       "0         0         0         0         0  \n",
       "\n",
       "[1 rows x 785 columns]"
      ]
     },
     "execution_count": 12,
     "metadata": {},
     "output_type": "execute_result"
    }
   ],
   "source": [
    "train_data.head(1)\n"
   ]
  },
  {
   "cell_type": "code",
   "execution_count": 13,
   "id": "a2000bb8",
   "metadata": {},
   "outputs": [
    {
     "data": {
      "text/plain": [
       "(42000, 785)"
      ]
     },
     "execution_count": 13,
     "metadata": {},
     "output_type": "execute_result"
    }
   ],
   "source": [
    "train_data.shape"
   ]
  },
  {
   "cell_type": "markdown",
   "id": "6760403a",
   "metadata": {},
   "source": [
    "We have 42000 samples x 784 pixel columns"
   ]
  },
  {
   "cell_type": "markdown",
   "id": "61cb635b",
   "metadata": {},
   "source": [
    "##### Extracting data\n",
    "\n"
   ]
  },
  {
   "cell_type": "code",
   "execution_count": 26,
   "id": "3aac19b7",
   "metadata": {},
   "outputs": [
    {
     "data": {
      "text/plain": [
       "(42000, 784)"
      ]
     },
     "execution_count": 26,
     "metadata": {},
     "output_type": "execute_result"
    }
   ],
   "source": [
    "train_labels = train_data.iloc[:,0].values               #Converting data to Numpy arrays\n",
    "train_images = train_data.iloc[:,1:].values\n",
    "\n",
    "train_images.shape"
   ]
  },
  {
   "cell_type": "markdown",
   "id": "927523a2",
   "metadata": {},
   "source": [
    "Visualizing a training example"
   ]
  },
  {
   "cell_type": "code",
   "execution_count": 27,
   "id": "ccadf140",
   "metadata": {},
   "outputs": [
    {
     "data": {
      "image/png": "[encoded data removed]",
      "text/plain": [
       "<Figure size 640x480 with 1 Axes>"
      ]
     },
     "metadata": {},
     "output_type": "display_data"
    }
   ],
   "source": [
    "random_no1 = random.randint(0,42000)\n",
    "\n",
    "image = train_images[random_no1].reshape(28, 28)\n",
    "\n",
    "#Plotting it\n",
    "plt.imshow(image, cmap='gray')\n",
    "plt.title(f\"Label: {labels[random_no1]}\")\n",
    "plt.axis('off')\n",
    "plt.show()"
   ]
  },
  {
   "cell_type": "markdown",
   "id": "e6daef1b",
   "metadata": {},
   "source": [
    "Extracting testing data for future use"
   ]
  },
  {
   "cell_type": "code",
   "execution_count": 24,
   "id": "bfc92b63",
   "metadata": {},
   "outputs": [],
   "source": [
    "test_data = pd.read_csv('data/traindata.csv')"
   ]
  },
  {
   "cell_type": "code",
   "execution_count": null,
   "id": "bf96ccab",
   "metadata": {},
   "outputs": [],
   "source": [
    "test_labels = test_data.iloc[:,0].values\n",
    "test_images = test_data.iloc[:,1:].values"
   ]
  },
  {
   "cell_type": "markdown",
   "id": "deaeef44",
   "metadata": {},
   "source": [
    "### Data normalization"
   ]
  },
  {
   "cell_type": "markdown",
   "id": "341aba77",
   "metadata": {},
   "source": [
    "Since the values only range from 0-255 and we rely on relu activation function for this project, the most optimal value of normalization is by division of highest value"
   ]
  },
  {
   "cell_type": "code",
   "execution_count": 28,
   "id": "cd550f73",
   "metadata": {},
   "outputs": [],
   "source": [
    "train_images = train_images/255\n",
    "test_images = test_images/255"
   ]
  },
  {
   "cell_type": "markdown",
   "id": "4ecbfea5",
   "metadata": {},
   "source": [
    "### Architecture of the Neural Network"
   ]
  },
  {
   "cell_type": "markdown",
   "id": "f20da644",
   "metadata": {},
   "source": [
    "For this project, the chosen architecture involves\n",
    "\n",
    "Input layer --> Hidden layer (128 units, relu) --> Hidden layer (64 units, relu) --> Output layer (10 units, linear)"
   ]
  },
  {
   "cell_type": "markdown",
   "id": "257aa349",
   "metadata": {},
   "source": [
    "Hence, we initialize the weight and biases for this architecture accordingly"
   ]
  },
  {
   "cell_type": "code",
   "execution_count": 29,
   "id": "3a952de0",
   "metadata": {},
   "outputs": [],
   "source": [
    "W1 = np.random.randn(784, 128) * 0.01   #Keeping values small for regularization \n",
    "W2 = np.random.randn(128, 64) * 0.01\n",
    "W3 = np.random.randn(64, 10)  * 0.01\n"
   ]
  },
  {
   "cell_type": "code",
   "execution_count": 30,
   "id": "211379f0",
   "metadata": {},
   "outputs": [],
   "source": [
    "b1 = np.zeros(128)\n",
    "b2 = np.zeros(64)\n",
    "b3 = np.zeros(10)\n"
   ]
  }
 ],
 "metadata": {
  "kernelspec": {
   "display_name": ".venv",
   "language": "python",
   "name": "python3"
  },
  "language_info": {
   "codemirror_mode": {
    "name": "ipython",
    "version": 3
   },
   "file_extension": ".py",
   "mimetype": "text/x-python",
   "name": "python",
   "nbconvert_exporter": "python",
   "pygments_lexer": "ipython3",
   "version": "3.13.1"
  }
 },
 "nbformat": 4,
 "nbformat_minor": 5
}
